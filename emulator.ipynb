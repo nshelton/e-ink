{
 "cells": [
  {
   "cell_type": "code",
   "execution_count": null,
   "metadata": {},
   "outputs": [],
   "source": [
    "import font\n",
    "import bitmapFont\n",
    "import time\n",
    "\n",
    "import matplotlib.pyplot as plt \n",
    "import numpy as np\n",
    " \n",
    "EPD_WIDTH       = 800\n",
    "EPD_HEIGHT      = 480\n",
    "\n",
    "def displayScreen(data, w = EPD_WIDTH, h = EPD_HEIGHT):\n",
    "\n",
    "    pixels = []\n",
    "    for b in data:\n",
    "        # for j in [1,2,4,8,16,32,64,128] :\n",
    "        for j in [128, 64, 32, 16, 8, 4, 2, 1] :\n",
    "            pixels.append(1 if b & j else 0)\n",
    "\n",
    "    npData = np.array(pixels)\n",
    "    npData = npData.reshape((EPD_HEIGHT, EPD_WIDTH))\n",
    "    plt.rcParams[\"figure.figsize\"] = (20,20)\n",
    "\n",
    "    plt.matshow(npData[:h, :w])\n",
    "    plt.show()\n",
    "\n",
    "\n",
    "\n",
    "#http://www.pentacom.jp/pentacom/bitfontmaker2/\n",
    "\n",
    "screenData = bytearray(EPD_HEIGHT * EPD_WIDTH // 8)\n",
    "\n",
    "string = \"Hello World\"\n",
    "\n",
    "\n",
    "def setPixel(x, y, v):\n",
    "    screenData[(x + y * EPD_WIDTH) // 8] |= 1 << (7 - (x % 8))\n",
    "\n",
    "def putChar(c, px, py, s):\n",
    "    charData = bitmapFont.font[c]\n",
    "    width = max(charData).bit_length() \n",
    "\n",
    "    if c == \" \" :\n",
    "        width = 5\n",
    "\n",
    "    width *= s\n",
    "    for y in range(16) :\n",
    "        for x in range(width) :\n",
    "            if charData[y] & 1 << x:\n",
    "                for sy in range(1, s+1):\n",
    "                    for sx in range(1, s+1):\n",
    "                        setPixel(px + x*s + sx, py + y*s + sy, 1)\n",
    "    return width\n",
    "\n",
    "def writeString(string, text_x, text_y, s=1) :\n",
    "    xoffs = 0\n",
    "    for c in string:\n",
    "        xoffs += putChar(c, text_x + xoffs, text_y, s)\n",
    "\n",
    "\n",
    "\n",
    "\n",
    "writeString(\"Hello World\", 10, 10, 3)\n",
    " \n",
    "displayScreen(screenData, w=200, h=200)\n"
   ]
  },
  {
   "cell_type": "code",
   "execution_count": 58,
   "metadata": {},
   "outputs": [
    {
     "name": "stdout",
     "output_type": "stream",
     "text": [
      "00000:0\n"
     ]
    }
   ],
   "source": [
    "num = 0\n",
    "\n",
    "print(f\"{str(num).zfill(5)}:{num}\")"
   ]
  }
 ],
 "metadata": {
  "interpreter": {
   "hash": "86024fa349f99ad691704669565130f081bc6e7964611f1d4a90a8dbc1cc6130"
  },
  "kernelspec": {
   "display_name": "Python 3.9.13 64-bit (windows store)",
   "language": "python",
   "name": "python3"
  },
  "language_info": {
   "name": "python",
   "version": "3.9.13"
  },
  "orig_nbformat": 4
 },
 "nbformat": 4,
 "nbformat_minor": 2
}
